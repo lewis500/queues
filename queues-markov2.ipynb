{
 "cells": [
  {
   "cell_type": "code",
   "execution_count": 1,
   "metadata": {
    "collapsed": true
   },
   "outputs": [],
   "source": [
    "#import libraries and such\n",
    "from collections import deque\n",
    "from random import random\n",
    "import math\n",
    "from pprint import pprint\n",
    "import numpy as np\n",
    "import matplotlib.pyplot as plt\n",
    "import requests\n",
    "from scipy.stats import expon\n",
    "import seaborn as sns\n",
    "np.set_printoptions(precision=4)\n",
    "import scipy.stats as stats"
   ]
  },
  {
   "cell_type": "code",
   "execution_count": 2,
   "metadata": {
    "collapsed": true
   },
   "outputs": [],
   "source": [
    "class Queue(deque):\n",
    "    # initializing a queue, inherits from deque class\n",
    "    def __init__(self, ID, nextTime):\n",
    "        deque.__init__(self, (), None)\n",
    "        self.ID = ID\n",
    "        self.history = []\n",
    "        self.nextTime = nextTime\n",
    "\n",
    "    def recordQueueLength(self):\n",
    "        self.history.append(len(self))\n",
    "    \n",
    "    @property\n",
    "    def transitions(self):\n",
    "        return np.dstack((self.history[:-1],self.history[1:]))[0]\n",
    "\n",
    "class Car:\n",
    "    def __init__(self, time):\n",
    "        self.traveled = 0\n",
    "        self.history = []\n",
    "        self.t_arrival = time\n",
    "\n",
    "    def recordQueue(self,ID):\n",
    "        self.history.append(ID)\n",
    "    \n",
    "    def increment(self):\n",
    "        self.traveled += 1  # increment the travel number\n",
    "\n",
    "    def setExitTime(self, time):\n",
    "        self.t_exit = time\n",
    "\n",
    "    def __repr__(self):\n",
    "        return str(vars(self))\n"
   ]
  },
  {
   "cell_type": "code",
   "execution_count": 3,
   "metadata": {},
   "outputs": [
    {
     "data": {
      "image/png": "[encoded data removed]",
      "text/plain": [
       "<Figure size 432x288 with 1 Axes>"
      ]
     },
     "metadata": {},
     "output_type": "display_data"
    }
   ],
   "source": [
    "sns.set()\n",
    "class Simulation:\n",
    "    N = 20 #change this to 12\n",
    "    cycle = 30\n",
    "    green_time = 15\n",
    "    trip_length = 10 #change to 8\n",
    "    saturation = .8\n",
    "    arrival_rate = (saturation * green_time)/(trip_length *\n",
    "                                              cycle)  # am i calculating this right?\n",
    "    interval_generator = expon(scale=1./arrival_rate)\n",
    "\n",
    "    def __init__(self):\n",
    "        self.cars = deque()\n",
    "        self.exited = deque()\n",
    "        self.green = False\n",
    "        self.time = 0\n",
    "        self.queues = map(lambda x: Queue(\n",
    "            x, self.getNextTime()), range(self.N))\n",
    "        for (i, queue) in enumerate(self.queues):\n",
    "            queue.next = self.queues[i+1] if i < (self.N-1) else self.queues[0]\n",
    "\n",
    "    def getNextTime(self):\n",
    "        return self.time + self.interval_generator.rvs(1)[0]\n",
    "    \n",
    "    def green_phase(self):\n",
    "        switches = []  # a list of which cars to move where\n",
    "\n",
    "        for (i, queue) in enumerate(self.queues):\n",
    "            if len(queue) > 0:  # if there are cars in the queue\n",
    "                car = queue.pop()  # pop the rightmost car off the queue\n",
    "                car.recordQueue(queue.ID)\n",
    "                car.increment()\n",
    "                if car.traveled < self.trip_length:  # if it still has somewhere to go\n",
    "                    switches.append((car, queue.next))\n",
    "                else:  # remove the car\n",
    "                    car.setExitTime(self.time+1)\n",
    "                    self.exited.append(car)\n",
    "\n",
    "        for (car, receiving_queue) in switches:  # add traversed cars to the new queues\n",
    "            receiving_queue.appendleft(car)\n",
    "\n",
    "    def tick(self):\n",
    "        self.time += 1\n",
    "\n",
    "        if self.time % self.green_time == 0:  # this works because our green time is half our cycle length\n",
    "            self.green = not self.green  # switch the signal\n",
    "            if not self.green and self.time>4000:\n",
    "                for queue in self.queues:\n",
    "                    queue.recordQueueLength()\n",
    "\n",
    "        if self.green:\n",
    "            self.green_phase()\n",
    "\n",
    "        for queue in self.queues:\n",
    "            if queue.nextTime <= self.time:\n",
    "                self.addCar(queue)\n",
    "                \n",
    "    def addCar(self,queue):\n",
    "        car = Car(self.time)\n",
    "        self.cars.append(car)\n",
    "        queue.appendleft(car)\n",
    "        queue.nextTime = self.getNextTime()\n",
    "    \n",
    "    @property\n",
    "    def histories(self):\n",
    "        return np.array([queue.history for queue in self.queues])\n",
    "\n",
    "    def plotDelays(self):\n",
    "        filtered = filter(lambda x: x.t_arrival > 15000, self.exited)\n",
    "        delays = map(lambda x: x.t_exit-x.t_arrival, filtered)\n",
    "        delays.sort()\n",
    "        plt.cla()\n",
    "#         sns.distplot(delays,fit=stats.gamma)\n",
    "        sns.distplot(delays)\n",
    "        plt.show()\n",
    "        print(np.mean(delays))\n",
    "        return delays\n",
    "    \n",
    "sim = Simulation()\n",
    "\n",
    "for i in range(30000):\n",
    "    sim.tick()\n",
    "    \n",
    "    \n",
    "# note this doesn't work if there is some number less than M that never gets called\n",
    "transitions = np.vstack([a.transitions for a in sim.queues])\n",
    "M = np.max(transitions)\n",
    "z = np.zeros((M+1,M+1))\n",
    "for (i,j) in transitions:\n",
    "    z[i][j]+=1\n",
    "P = z/z.sum(axis=1,keepdims=True)\n",
    "w,v = np.linalg.eig(P.T)\n",
    "j_stationary = np.argmin(abs(w - 1.0))\n",
    "p_stationary = v[:,j_stationary].real\n",
    "p_stationary /= p_stationary.sum()\n",
    "q = p_stationary\n",
    "plt.plot(p_stationary)\n",
    "plt.show()\n",
    "\n",
    "# delays = sim.plotDelays()\n"
   ]
  },
  {
   "cell_type": "code",
   "execution_count": 335,
   "metadata": {},
   "outputs": [
    {
     "data": {
      "image/png": "[encoded data removed]",
      "text/plain": [
       "<Figure size 432x288 with 1 Axes>"
      ]
     },
     "metadata": {},
     "output_type": "display_data"
    }
   ],
   "source": [
    "# note this doesn't work if there is some number less than M that never gets called\n",
    "transitions = np.vstack([a.transitions for a in sim.queues])\n",
    "M = np.max(transitions)\n",
    "z = np.zeros((M+1,M+1))\n",
    "for (i,j) in transitions:\n",
    "    z[i][j]+=1\n",
    "P = z/z.sum(axis=1,keepdims=True)\n",
    "w,v = np.linalg.eig(P.T)\n",
    "j_stationary = np.argmin(abs(w - 1.0))\n",
    "p_stationary = v[:,j_stationary].real\n",
    "p_stationary /= p_stationary.sum()\n",
    "q = p_stationary\n",
    "plt.plot(p_stationary)\n",
    "plt.show()"
   ]
  },
  {
   "cell_type": "code",
   "execution_count": 329,
   "metadata": {},
   "outputs": [
    {
     "data": {
      "image/png": "[encoded data removed]",
      "text/plain": [
       "<Figure size 432x288 with 1 Axes>"
      ]
     },
     "metadata": {},
     "output_type": "display_data"
    }
   ],
   "source": [
    "tripLength =10\n",
    "u = [g.rvs(size=tripLength).sum()+1 for i in np.arange(10000)]\n",
    "plt.cla()\n",
    "sns.distplot(u)\n",
    "# plt.hist(u,)\n",
    "plt.show()"
   ]
  },
  {
   "cell_type": "code",
   "execution_count": 6,
   "metadata": {},
   "outputs": [],
   "source": [
    "g = stats.rv_discrete(values=(np.arange(M+1),q))"
   ]
  },
  {
   "cell_type": "code",
   "execution_count": 43,
   "metadata": {},
   "outputs": [
    {
     "data": {
      "text/plain": [
       "65"
      ]
     },
     "execution_count": 43,
     "metadata": {},
     "output_type": "execute_result"
    }
   ],
   "source": [
    "time = 0\n",
    "j = 0\n",
    "trip_length = 10\n",
    "while j < trip_length:\n",
    "    time+=g.rvs()+1\n",
    "    if time>15:\n",
    "        time+=15\n",
    "    j+=1\n",
    "time"
   ]
  }
 ],
 "metadata": {
  "anaconda-cloud": {},
  "kernelspec": {
   "display_name": "Python [conda root]",
   "language": "python",
   "name": "conda-root-py"
  },
  "language_info": {
   "codemirror_mode": {
    "name": "ipython",
    "version": 2
   },
   "file_extension": ".py",
   "mimetype": "text/x-python",
   "name": "python",
   "nbconvert_exporter": "python",
   "pygments_lexer": "ipython2",
   "version": "2.7.12"
  }
 },
 "nbformat": 4,
 "nbformat_minor": 1
}
