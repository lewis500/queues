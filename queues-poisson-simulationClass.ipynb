{
 "cells": [
  {
   "cell_type": "code",
   "execution_count": 1,
   "metadata": {
    "collapsed": true
   },
   "outputs": [],
   "source": [
    "#import libraries and such\n",
    "from collections import deque\n",
    "from random import random\n",
    "import math\n",
    "from pprint import pprint\n",
    "import numpy as np\n",
    "import matplotlib.pyplot as plt\n",
    "import requests\n",
    "from scipy.stats import expon\n",
    "import seaborn as sns\n",
    "import scipy.stats as stats"
   ]
  },
  {
   "cell_type": "code",
   "execution_count": 2,
   "metadata": {
    "collapsed": true
   },
   "outputs": [],
   "source": [
    "class Queue(deque):\n",
    "    # initializing a queue, inherits from deque class\n",
    "    def __init__(self, ID, nextTime):\n",
    "        deque.__init__(self, (), None)\n",
    "        self.ID = ID\n",
    "        self.history = []\n",
    "        self.nextTime = nextTime\n",
    "\n",
    "    # record the queue length at a moment in time\n",
    "    def recordQueueLength(self, time):\n",
    "        self.history.append([time, len(self)])\n",
    "\n",
    "class Car:\n",
    "    # initializing a car\n",
    "    def __init__(self, time):\n",
    "        # store variables on instance\n",
    "        self.traveled = 0\n",
    "        self.history = []\n",
    "        self.t_arrival = time\n",
    "        # update the static properties\n",
    "\n",
    "    # traverse an intersection\n",
    "    def traverse(self, ID):\n",
    "        self.history.append(ID)  # record where it's been for debugging\n",
    "        self.traveled += 1  # increment the travel number\n",
    "\n",
    "    # record the exit time and add car to list of exited vehicles\n",
    "    def setExitTime(self, time):\n",
    "        self.t_exit = time\n",
    "\n",
    "    def __repr__(self):\n",
    "        return str(vars(self))\n"
   ]
  },
  {
   "cell_type": "code",
   "execution_count": 37,
   "metadata": {},
   "outputs": [
    {
     "data": {
      "image/png": "[encoded data removed]",
      "text/plain": [
       "<Figure size 432x288 with 1 Axes>"
      ]
     },
     "metadata": {},
     "output_type": "display_data"
    },
    {
     "name": "stdout",
     "output_type": "stream",
     "text": [
      "55.6922572178\n"
     ]
    }
   ],
   "source": [
    "sns.set()\n",
    "class Simulation:\n",
    "    N = 20\n",
    "    cycle = 30\n",
    "    green_time = 15\n",
    "    trip_length = 10\n",
    "    saturation = .95\n",
    "    arrival_rate = (saturation * green_time)/(trip_length *\n",
    "                                              cycle)  # am i calculating this right?\n",
    "    interval_generator = expon(scale=1./arrival_rate)\n",
    "\n",
    "    def __init__(self):\n",
    "        self.cars = deque()\n",
    "        self.exited = deque()\n",
    "        self.green = False\n",
    "        self.time = 0\n",
    "        self.queues = map(lambda x: Queue(\n",
    "            x, self.getNextTime()), range(self.N))\n",
    "        for (i, queue) in enumerate(self.queues):\n",
    "            queue.next = self.queues[i+1] if i < (self.N-1) else self.queues[0]\n",
    "\n",
    "    def getNextTime(self):\n",
    "        return self.time + self.interval_generator.rvs(1)[0]\n",
    "\n",
    "    def tick(self):\n",
    "        self.time += 1\n",
    "\n",
    "        if self.time % self.green_time == 0:  # this works because our green time is half our cycle length\n",
    "            self.green = not self.green  # switch the signal\n",
    "\n",
    "        if self.green:\n",
    "            switches = []  # a list of which cars to move where\n",
    "\n",
    "            for (i, queue) in enumerate(self.queues):\n",
    "                if len(queue) > 0:  # if there are cars in the queue\n",
    "                    car = queue.pop()  # pop the rightmost car off the queue\n",
    "                    car.traverse(queue.ID)  # have the car traverse the queue\n",
    "                    if car.traveled < self.trip_length:  # if it still has somewhere to go\n",
    "                        switches.append((car, queue.next))\n",
    "                    else:  # remove the car\n",
    "                        car.setExitTime(self.time)\n",
    "                        self.exited.append(car)\n",
    "\n",
    "            for (car, receiving_queue) in switches:  # add traversed cars to the new queues\n",
    "                receiving_queue.appendleft(car)\n",
    "\n",
    "        for queue in self.queues:\n",
    "            queue.recordQueueLength(self.time)\n",
    "            if queue.nextTime <= self.time:\n",
    "                self.addCar(queue)\n",
    "                \n",
    "    def addCar(self,queue):\n",
    "        car = Car(self.time)\n",
    "        self.cars.append(car)\n",
    "        queue.appendleft(car)\n",
    "        queue.nextTime = self.getNextTime()\n",
    "\n",
    "    def plotDelays(self):\n",
    "        filtered = filter(lambda x: x.t_arrival > 3000, self.exited)\n",
    "        delays = map(lambda x: x.t_exit-x.t_arrival, filtered)\n",
    "        delays.sort()\n",
    "        plt.cla()\n",
    "        sns.distplot(delays,fit=stats.gamma)\n",
    "        plt.show()\n",
    "        print(np.mean(delays))\n",
    "        return delays\n",
    "    \n",
    "sim = Simulation()\n",
    "\n",
    "for i in range(8000):\n",
    "    sim.tick()\n",
    "\n",
    "delays = sim.plotDelays()\n"
   ]
  },
  {
   "cell_type": "code",
   "execution_count": 39,
   "metadata": {},
   "outputs": [
    {
     "name": "stdout",
     "output_type": "stream",
     "text": [
      "1.8\n"
     ]
    },
    {
     "data": {
      "image/png": "[encoded data removed]",
      "text/plain": [
       "<Figure size 432x288 with 1 Axes>"
      ]
     },
     "metadata": {},
     "output_type": "display_data"
    }
   ],
   "source": [
    "q = [a[1] for a in queue.history if (a[0]%sim.cycle==0 and a[0]>2000) for queue in sim.queues]\n",
    "\n",
    "plt.cla()\n",
    "sns.countplot(q)\n",
    "print np.mean(q)\n",
    "plt.show()"
   ]
  }
 ],
 "metadata": {
  "anaconda-cloud": {},
  "kernelspec": {
   "display_name": "Python [conda root]",
   "language": "python",
   "name": "conda-root-py"
  },
  "language_info": {
   "codemirror_mode": {
    "name": "ipython",
    "version": 2
   },
   "file_extension": ".py",
   "mimetype": "text/x-python",
   "name": "python",
   "nbconvert_exporter": "python",
   "pygments_lexer": "ipython2",
   "version": "2.7.12"
  }
 },
 "nbformat": 4,
 "nbformat_minor": 1
}
