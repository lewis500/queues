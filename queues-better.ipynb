{
 "cells": [
  {
   "cell_type": "code",
   "execution_count": 8,
   "metadata": {
    "collapsed": true
   },
   "outputs": [],
   "source": [
    "from collections import deque\n",
    "from random import random\n",
    "from pprint import pprint\n",
    "import numpy as np\n",
    "import matplotlib.pyplot as plt\n",
    "from matplotlib import animation, rc\n",
    "from IPython.display import HTML\n",
    "from numpy.random import poisson\n",
    "import requests"
   ]
  },
  {
   "cell_type": "code",
   "execution_count": 29,
   "metadata": {},
   "outputs": [],
   "source": [
    "# classes\n",
    "class Queue(deque):\n",
    "    #static properties\n",
    "    population = 0\n",
    "    \n",
    "    #initializing a queue, inherits from deque class\n",
    "    def __init__(self, iterable=(), maxlen=None):\n",
    "        deque.__init__(self, iterable,maxlen)\n",
    "        self.id = Queue.population\n",
    "        self.history = []\n",
    "        Queue.population+=1\n",
    "        \n",
    "    #record the queue length at a moment in time\n",
    "    def record(self, time):\n",
    "        self.history.append([time,len(self)])\n",
    "    \n",
    "class Car:\n",
    "    # static properties\n",
    "    population = 0\n",
    "    cars = []\n",
    "    exited = []\n",
    "    \n",
    "    \n",
    "    #initializing a car\n",
    "    def __init__(self, time):\n",
    "        #store variables on instance\n",
    "        self.id = Car.population\n",
    "        self.traveled = 0\n",
    "        self.history = []\n",
    "        self.t_arrival = time\n",
    "        # update the static properties\n",
    "        Car.population += 1\n",
    "        Car.cars.append(self)\n",
    "        \n",
    "    ###various methods\n",
    "    \n",
    "    #traverse an intersection\n",
    "    def traverse(self,queue):\n",
    "        self.history.append(queue.id)#record where it's been for debugging\n",
    "        self.traveled += 1 #increment the travel number\n",
    "    \n",
    "    #record the exit time and add car to list of exited vehicles\n",
    "    def exit(self, time):\n",
    "        self.t_exit = time\n",
    "        Car.exited.append(self)\n",
    "\n",
    "    def __repr__(self):\n",
    "        return str(vars(self))\n"
   ]
  },
  {
   "cell_type": "code",
   "execution_count": 31,
   "metadata": {},
   "outputs": [
    {
     "data": {
      "image/png": "[encoded data removed]",
      "text/plain": [
       "<Figure size 432x288 with 1 Axes>"
      ]
     },
     "metadata": {},
     "output_type": "display_data"
    }
   ],
   "source": [
    "## global variables\n",
    "green = False\n",
    "N = 20\n",
    "queues = map(lambda x: Queue(), range(N))\n",
    "green_time = 15.\n",
    "cycle = 30.\n",
    "time = 0\n",
    "trip_length = 10\n",
    "saturation = .95 \n",
    "arrival_rate = (saturation * green_time)/(trip_length*cycle) #am i calculating this right?\n",
    "\n",
    "## function that runs the simulation one time unit\n",
    "def tick():\n",
    "    global time, green\n",
    "    time += 1\n",
    "\n",
    "    if time % green_time == 0: #this works because our green time is half our cycle length\n",
    "#         s.post('http://localhost:3000/hello',params={\"queues\":map(len,queues)})\n",
    "        green = not green #switch the signal\n",
    "\n",
    "    if green:\n",
    "        switches = [] #a list of which cars to move where\n",
    "\n",
    "        for (i, queue) in enumerate(queues):\n",
    "            if len(queue) > 0:#if there are cars in the queue\n",
    "                car = queue.pop() #pop the rightmost car off the queue\n",
    "                car.traverse(queue) #have the car traverse the queue\n",
    "                if car.traveled < trip_length: #if it still has somewhere to go\n",
    "                    receiving_queue = queues[i+1] if i < (N-1) else queues[0] #find the next queue\n",
    "                    switches.append((car, receiving_queue)) \n",
    "                else: #remove the car\n",
    "                    car.exit(time)\n",
    "\n",
    "        for (car, receiving_queue) in switches: #add traversed cars to the new queues\n",
    "            receiving_queue.appendleft(car)\n",
    "            \n",
    "    for queue in queues: \n",
    "        queue.record(time) #keep a record of the queue length\n",
    "        if random() < arrival_rate: # if passes bernoulli trial. i am not sure if i'm doing this right.\n",
    "            queue.appendleft(Car(time)) #add a new car\n",
    "            \n",
    "for i in range(5000):\n",
    "    tick()\n",
    "\n",
    "filtered = filter(lambda x: x.t_arrival > 2000,Car.exited)\n",
    "delays = map(lambda x: x.t_exit-x.t_arrival,filtered)\n",
    "delays.sort()\n",
    "plt.cla()\n",
    "hist = plt.hist(delays,bins=range(0, max(delays) + 2, 2),density=True)\n",
    "plt.show()"
   ]
  },
  {
   "cell_type": "code",
   "execution_count": 14,
   "metadata": {},
   "outputs": [],
   "source": [
    "# code to connet o browser\n",
    "# s = requests.Session()\n",
    "# for i in range(1000):\n",
    "#     s.post(\"http://localhost:3000/hello\",params={\"hello\":i})"
   ]
  }
 ],
 "metadata": {
  "anaconda-cloud": {},
  "kernelspec": {
   "display_name": "Python [conda root]",
   "language": "python",
   "name": "conda-root-py"
  },
  "language_info": {
   "codemirror_mode": {
    "name": "ipython",
    "version": 2
   },
   "file_extension": ".py",
   "mimetype": "text/x-python",
   "name": "python",
   "nbconvert_exporter": "python",
   "pygments_lexer": "ipython2",
   "version": "2.7.12"
  }
 },
 "nbformat": 4,
 "nbformat_minor": 1
}
